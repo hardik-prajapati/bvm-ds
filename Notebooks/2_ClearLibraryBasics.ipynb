{
 "cells": [
  {
   "cell_type": "code",
   "execution_count": 1,
   "id": "f1147f10",
   "metadata": {},
   "outputs": [],
   "source": [
    "import pandas as pd\n",
    "import numpy as np\n",
    "import os\n",
    "import sys"
   ]
  },
  {
   "cell_type": "code",
   "execution_count": 2,
   "id": "47411dc3",
   "metadata": {},
   "outputs": [],
   "source": [
    "from IPython.display import Image"
   ]
  },
  {
   "cell_type": "code",
   "execution_count": 3,
   "id": "3f100954",
   "metadata": {},
   "outputs": [],
   "source": [
    "from matplotlib import pyplot as plt\n",
    "import seaborn as sns\n",
    "sns.set()\n",
    "import io"
   ]
  },
  {
   "cell_type": "markdown",
   "id": "be8600bb",
   "metadata": {},
   "source": [
    "# Numpy Basics "
   ]
  },
  {
   "cell_type": "markdown",
   "id": "66a4cc01",
   "metadata": {},
   "source": [
    "## Arrays "
   ]
  },
  {
   "cell_type": "code",
   "execution_count": 4,
   "id": "44d4c25d",
   "metadata": {},
   "outputs": [
    {
     "data": {
      "text/html": [
       "<img src=\"../Assets/Arrays.png\" width=\"900\" height=\"900\"/>"
      ],
      "text/plain": [
       "<IPython.core.display.Image object>"
      ]
     },
     "execution_count": 4,
     "metadata": {},
     "output_type": "execute_result"
    }
   ],
   "source": [
    "Image(url='../Assets/Arrays.png', width=900, height=900)"
   ]
  },
  {
   "cell_type": "markdown",
   "id": "dca65540",
   "metadata": {},
   "source": [
    "## Basic Properties "
   ]
  },
  {
   "cell_type": "code",
   "execution_count": 5,
   "id": "f89080f6",
   "metadata": {},
   "outputs": [
    {
     "name": "stdout",
     "output_type": "stream",
     "text": [
      "Dimension: 1\n",
      "Shape: (4,)\n",
      "Total Elements: 4\n",
      "Type: int64\n"
     ]
    }
   ],
   "source": [
    "array_1d = np.array([10, 20, 30, 40])\n",
    "print(f\"Dimension: {array_1d.ndim}\")\n",
    "print(f\"Shape: {array_1d.shape}\")\n",
    "print(f\"Total Elements: {array_1d.size}\")\n",
    "print(f\"Type: {array_1d.dtype}\")"
   ]
  },
  {
   "cell_type": "code",
   "execution_count": 6,
   "id": "76d96472",
   "metadata": {},
   "outputs": [
    {
     "name": "stdout",
     "output_type": "stream",
     "text": [
      "Dimension: 2\n",
      "Shape: (3, 4)\n",
      "Total Elements: 12\n",
      "Type: float64\n"
     ]
    }
   ],
   "source": [
    "array_2d = np.array([[0.1, 0.5, 300, 400], [400, 0.7, 600, 0.6], [700, 0.5, 900, 0.6]])\n",
    "print(f\"Dimension: {array_2d.ndim}\")\n",
    "print(f\"Shape: {array_2d.shape}\")\n",
    "print(f\"Total Elements: {array_2d.size}\")\n",
    "print(f\"Type: {array_2d.dtype}\")"
   ]
  },
  {
   "cell_type": "markdown",
   "id": "77000871",
   "metadata": {},
   "source": [
    "## Built in Functions to create arrays "
   ]
  },
  {
   "cell_type": "code",
   "execution_count": 7,
   "id": "13cb2540",
   "metadata": {},
   "outputs": [
    {
     "data": {
      "text/plain": [
       "array([1., 1., 1., 1., 1., 1., 1., 1., 1., 1.])"
      ]
     },
     "execution_count": 7,
     "metadata": {},
     "output_type": "execute_result"
    }
   ],
   "source": [
    "ones = np.ones(shape=10)\n",
    "ones"
   ]
  },
  {
   "cell_type": "code",
   "execution_count": 8,
   "id": "3f37c2d8",
   "metadata": {},
   "outputs": [
    {
     "data": {
      "text/plain": [
       "array([[0., 0.],\n",
       "       [0., 0.],\n",
       "       [0., 0.],\n",
       "       [0., 0.],\n",
       "       [0., 0.],\n",
       "       [0., 0.],\n",
       "       [0., 0.],\n",
       "       [0., 0.],\n",
       "       [0., 0.],\n",
       "       [0., 0.]])"
      ]
     },
     "execution_count": 8,
     "metadata": {},
     "output_type": "execute_result"
    }
   ],
   "source": [
    "zeros = np.zeros(shape=(10, 2))\n",
    "zeros"
   ]
  },
  {
   "cell_type": "code",
   "execution_count": 9,
   "id": "7ee86171",
   "metadata": {},
   "outputs": [
    {
     "data": {
      "text/plain": [
       "array([[10, 10],\n",
       "       [10, 10],\n",
       "       [10, 10]])"
      ]
     },
     "execution_count": 9,
     "metadata": {},
     "output_type": "execute_result"
    }
   ],
   "source": [
    "array_constant = np.full(shape=(3,2), fill_value=10)\n",
    "array_constant"
   ]
  },
  {
   "cell_type": "code",
   "execution_count": 10,
   "id": "ccdb3bcf",
   "metadata": {},
   "outputs": [
    {
     "data": {
      "text/plain": [
       "array([10, 12, 14, 16, 18])"
      ]
     },
     "execution_count": 10,
     "metadata": {},
     "output_type": "execute_result"
    }
   ],
   "source": [
    "array_arange = np.arange(start=10, stop=20, step=2)\n",
    "array_arange"
   ]
  },
  {
   "cell_type": "code",
   "execution_count": 11,
   "id": "ee9c37ba",
   "metadata": {},
   "outputs": [
    {
     "data": {
      "text/plain": [
       "array([[0.88654278, 0.75947461],\n",
       "       [0.68756093, 0.62196963],\n",
       "       [0.93153383, 0.44753164],\n",
       "       [0.7848515 , 0.81875025],\n",
       "       [0.25572362, 0.86488459]])"
      ]
     },
     "execution_count": 11,
     "metadata": {},
     "output_type": "execute_result"
    }
   ],
   "source": [
    "array_random = np.random.random(size=(5,2))\n",
    "array_random"
   ]
  },
  {
   "cell_type": "markdown",
   "id": "4d86d967",
   "metadata": {},
   "source": [
    "## Acessing Elements from arrays "
   ]
  },
  {
   "cell_type": "code",
   "execution_count": 12,
   "id": "7be397d3",
   "metadata": {},
   "outputs": [
    {
     "data": {
      "text/plain": [
       "array([20, 21, 22, 23, 24, 25, 26, 27, 28, 29])"
      ]
     },
     "execution_count": 12,
     "metadata": {},
     "output_type": "execute_result"
    }
   ],
   "source": [
    "array = np.arange(20,30)\n",
    "array"
   ]
  },
  {
   "cell_type": "markdown",
   "id": "78e00f8b",
   "metadata": {},
   "source": [
    "### Accessing single element "
   ]
  },
  {
   "cell_type": "code",
   "execution_count": 13,
   "id": "43900394",
   "metadata": {},
   "outputs": [
    {
     "data": {
      "text/plain": [
       "22"
      ]
     },
     "execution_count": 13,
     "metadata": {},
     "output_type": "execute_result"
    }
   ],
   "source": [
    "array[2]"
   ]
  },
  {
   "cell_type": "markdown",
   "id": "c66da157",
   "metadata": {},
   "source": [
    "### Using a list of indices "
   ]
  },
  {
   "cell_type": "code",
   "execution_count": 14,
   "id": "6b39b829",
   "metadata": {},
   "outputs": [
    {
     "data": {
      "text/plain": [
       "array([20, 24, 25])"
      ]
     },
     "execution_count": 14,
     "metadata": {},
     "output_type": "execute_result"
    }
   ],
   "source": [
    "array[[0,4,5]]"
   ]
  },
  {
   "cell_type": "markdown",
   "id": "258fb6a2",
   "metadata": {},
   "source": [
    "###  Using a slice "
   ]
  },
  {
   "cell_type": "markdown",
   "id": "71d8392e",
   "metadata": {},
   "source": [
    "<p font-size=500>\n",
    "    \n",
    "    \n",
    "<b> Slicing Syntax </b>\n",
    "``` [start: stop :step] ```\n",
    "    \n",
    "\n",
    "* Default Values:\n",
    "    * start - 0\n",
    "    * stop = -1\n",
    "    * step = 1\n",
    "</p>"
   ]
  },
  {
   "cell_type": "code",
   "execution_count": 15,
   "id": "db43ebe9",
   "metadata": {},
   "outputs": [
    {
     "data": {
      "text/plain": [
       "(array([22, 24, 26]),\n",
       " array([20, 21, 22, 23, 24, 25, 26, 27]),\n",
       " array([20, 21, 22, 23, 24, 25, 26, 27, 28, 29]))"
      ]
     },
     "execution_count": 15,
     "metadata": {},
     "output_type": "execute_result"
    }
   ],
   "source": [
    "array[2:8:2], array[: 8:], array[:]"
   ]
  },
  {
   "cell_type": "markdown",
   "id": "e24774b4",
   "metadata": {},
   "source": [
    "### Boolean Indexing"
   ]
  },
  {
   "cell_type": "code",
   "execution_count": 16,
   "id": "1ada2fe4",
   "metadata": {},
   "outputs": [
    {
     "data": {
      "text/plain": [
       "array([22, 23, 24])"
      ]
     },
     "execution_count": 16,
     "metadata": {},
     "output_type": "execute_result"
    }
   ],
   "source": [
    "array[[False, False, True, True, True, False, False, False, False, False]]"
   ]
  },
  {
   "cell_type": "code",
   "execution_count": 17,
   "id": "0f443e32",
   "metadata": {},
   "outputs": [
    {
     "data": {
      "text/plain": [
       "array([False, False, False, False, False, False,  True,  True,  True,\n",
       "        True])"
      ]
     },
     "execution_count": 17,
     "metadata": {},
     "output_type": "execute_result"
    }
   ],
   "source": [
    "boolean_mask = array > 25\n",
    "boolean_mask\n"
   ]
  },
  {
   "cell_type": "code",
   "execution_count": 18,
   "id": "93ebc078",
   "metadata": {},
   "outputs": [
    {
     "data": {
      "text/plain": [
       "array([26, 27, 28, 29])"
      ]
     },
     "execution_count": 18,
     "metadata": {},
     "output_type": "execute_result"
    }
   ],
   "source": [
    "array[boolean_mask]"
   ]
  },
  {
   "cell_type": "markdown",
   "id": "d2c6dae9",
   "metadata": {},
   "source": [
    "## Returning a View vs Copy "
   ]
  },
  {
   "cell_type": "code",
   "execution_count": 19,
   "id": "14d2ad59",
   "metadata": {},
   "outputs": [
    {
     "name": "stdout",
     "output_type": "stream",
     "text": [
      "original array [0 1 2 3 4 5 6 7 8 9]\n",
      "array Slice [1 2 3 4 5 6]\n",
      "array index list [1 2 3 4 5 6]\n"
     ]
    }
   ],
   "source": [
    "array = np.arange(10)\n",
    "\n",
    "array_index_list = array[[1,2,3,4,5,6]]\n",
    "array_slice = array[1:7]\n",
    "\n",
    "print('original array', array)\n",
    "print('array Slice', array_slice)\n",
    "print('array index list', array_index_list)"
   ]
  },
  {
   "cell_type": "code",
   "execution_count": 20,
   "id": "cee935dc",
   "metadata": {},
   "outputs": [
    {
     "name": "stdout",
     "output_type": "stream",
     "text": [
      "original array [   0 -200    2    3    4    5    6    7    8    9]\n",
      "array slice [-200    2    3    4    5    6]\n",
      "array index list [1 2 3 4 5 6]\n"
     ]
    }
   ],
   "source": [
    "array_slice[0] = -200\n",
    "print('original array', array)\n",
    "print('array slice', array_slice)\n",
    "print('array index list', array_index_list)"
   ]
  },
  {
   "cell_type": "code",
   "execution_count": 22,
   "id": "c70983c5",
   "metadata": {},
   "outputs": [
    {
     "name": "stdout",
     "output_type": "stream",
     "text": [
      "original array [   0 -200    2    3    4    5    6    7    8    9]\n",
      "array slice [-200    2    3    4    5    6]\n",
      "array index list [-400    2    3    4    5    6]\n"
     ]
    }
   ],
   "source": [
    "array_index_list[0] = -400\n",
    "print('original array', array)\n",
    "print('array slice', array_slice)\n",
    "print('array index list', array_index_list)"
   ]
  },
  {
   "cell_type": "markdown",
   "id": "4f7277a3",
   "metadata": {},
   "source": [
    "# Pandas Basics"
   ]
  },
  {
   "cell_type": "markdown",
   "id": "33fea7b1",
   "metadata": {},
   "source": [
    "## Series"
   ]
  },
  {
   "cell_type": "code",
   "execution_count": 25,
   "id": "e0131203",
   "metadata": {},
   "outputs": [
    {
     "data": {
      "text/html": [
       "<img src=\"../Assets/series.png\" width=\"900\" height=\"900\"/>"
      ],
      "text/plain": [
       "<IPython.core.display.Image object>"
      ]
     },
     "execution_count": 25,
     "metadata": {},
     "output_type": "execute_result"
    }
   ],
   "source": [
    "Image(url='../Assets/series.png', width=900, height=900)"
   ]
  },
  {
   "cell_type": "markdown",
   "id": "7e6ba821",
   "metadata": {},
   "source": [
    "### Common Methods and Attributes\n",
    "\n",
    "\n",
    "* pd.Series.values\n",
    "* pd.Series.index\n",
    "\n",
    "\n",
    "\n",
    "* pd.Series.mean()\n",
    "* pd.Series.median()\n",
    "\n",
    "\n",
    "\n",
    "\n",
    "* pd.Series.isna()\n",
    "* pd.Series.dropna()\n"
   ]
  },
  {
   "cell_type": "code",
   "execution_count": 50,
   "id": "8aec3711",
   "metadata": {},
   "outputs": [],
   "source": [
    "series = pd.Series([100,200,700,900, 130], index=['a','c','e','z', 't'])"
   ]
  },
  {
   "cell_type": "code",
   "execution_count": null,
   "id": "8a1f31ea",
   "metadata": {},
   "outputs": [],
   "source": [
    "series"
   ]
  },
  {
   "cell_type": "code",
   "execution_count": null,
   "id": "ef32a20d",
   "metadata": {},
   "outputs": [],
   "source": [
    "series.index, series.values"
   ]
  },
  {
   "cell_type": "code",
   "execution_count": null,
   "id": "ee6a40a9",
   "metadata": {},
   "outputs": [],
   "source": [
    "series.mean(), series.median()"
   ]
  },
  {
   "cell_type": "code",
   "execution_count": null,
   "id": "7c857f23",
   "metadata": {},
   "outputs": [],
   "source": [
    "s1 = pd.Series([1,np.nan, 2,3,np.nan], index=['a','b','c','d','e'])\n",
    "s1"
   ]
  },
  {
   "cell_type": "code",
   "execution_count": null,
   "id": "5ed13334",
   "metadata": {},
   "outputs": [],
   "source": [
    "s1.isna()"
   ]
  },
  {
   "cell_type": "code",
   "execution_count": null,
   "id": "3f62f93b",
   "metadata": {},
   "outputs": [],
   "source": [
    "s1.dropna()"
   ]
  },
  {
   "cell_type": "markdown",
   "id": "0b3720e6",
   "metadata": {},
   "source": [
    "###  Selecting Data  "
   ]
  },
  {
   "cell_type": "code",
   "execution_count": null,
   "id": "d060a2f8",
   "metadata": {},
   "outputs": [],
   "source": [
    "s = pd.Series([10, 20, 30, 40, 50, 60, 70, 80, 90, 100], index=['a','b','c','d','e','f','g', 'h', 'i','j'])\n",
    "s"
   ]
  },
  {
   "cell_type": "markdown",
   "id": "4bfce813",
   "metadata": {},
   "source": [
    "#### Methods to avoid"
   ]
  },
  {
   "cell_type": "code",
   "execution_count": null,
   "id": "d020d76e",
   "metadata": {},
   "outputs": [],
   "source": [
    "s['a']"
   ]
  },
  {
   "cell_type": "code",
   "execution_count": null,
   "id": "9070b336",
   "metadata": {},
   "outputs": [],
   "source": [
    "s[0]"
   ]
  },
  {
   "cell_type": "code",
   "execution_count": null,
   "id": "a862a2ab",
   "metadata": {},
   "outputs": [],
   "source": [
    "s1 = pd.Series([1,2,3,4], index=[10, 20, 0,  100])\n",
    "s1"
   ]
  },
  {
   "cell_type": "code",
   "execution_count": null,
   "id": "313fb44a",
   "metadata": {},
   "outputs": [],
   "source": [
    "s1[0]"
   ]
  },
  {
   "cell_type": "code",
   "execution_count": null,
   "id": "99590eb2",
   "metadata": {},
   "outputs": [],
   "source": [
    "s2 = pd.Series([10, 20, 30, 40], index=[5,6,7,8])\n",
    "# s2[0]"
   ]
  },
  {
   "cell_type": "markdown",
   "id": "2f32502e",
   "metadata": {},
   "source": [
    "####  Position Based Indexing "
   ]
  },
  {
   "cell_type": "markdown",
   "id": "d4c67437",
   "metadata": {},
   "source": [
    "\n",
    "`Syntax :  series_object.iloc[ <selection> ]  `\n",
    "\n",
    " `<selection> can be`\n",
    "\n",
    " - Single Position - 10\n",
    " - List of Positions - [0, 4, 10]\n",
    " - Slices of positions - 0 : 10\n",
    "     - Empty Slice \" : \"  means all positions from 0 to -1"
   ]
  },
  {
   "cell_type": "code",
   "execution_count": null,
   "id": "8ec8b767",
   "metadata": {},
   "outputs": [],
   "source": [
    "s2.iloc[0]"
   ]
  },
  {
   "cell_type": "code",
   "execution_count": null,
   "id": "319d0c16",
   "metadata": {},
   "outputs": [],
   "source": [
    "s2.iloc[[1,2]]"
   ]
  },
  {
   "cell_type": "code",
   "execution_count": null,
   "id": "84b761a4",
   "metadata": {},
   "outputs": [],
   "source": [
    "s2.iloc[1:]"
   ]
  },
  {
   "cell_type": "markdown",
   "id": "b7c5b017",
   "metadata": {},
   "source": [
    "####  Label Based Indexing "
   ]
  },
  {
   "cell_type": "markdown",
   "id": "489d1937",
   "metadata": {},
   "source": [
    "`Syntax :  series_object.loc[ <selection> ]  `\n",
    "\n",
    " `<selection> can be`\n",
    "\n",
    " - Single Label - 'a'\n",
    " - List of Labels -  `[ 'a', 'b', 'd']`\n",
    " - Slices of Labels - 'a' : 'd'\n",
    "     - Empty Slice \" : \"  means all positions from first label to last label "
   ]
  },
  {
   "cell_type": "code",
   "execution_count": null,
   "id": "66ec22ff",
   "metadata": {},
   "outputs": [],
   "source": [
    "s3 = pd.Series([1,2,3,4,5], index=['a','b','c','d','e'])\n",
    "s3\n"
   ]
  },
  {
   "cell_type": "code",
   "execution_count": null,
   "id": "e5773473",
   "metadata": {},
   "outputs": [],
   "source": [
    "s3.loc['b']"
   ]
  },
  {
   "cell_type": "code",
   "execution_count": null,
   "id": "74201705",
   "metadata": {},
   "outputs": [],
   "source": [
    "s3.loc[['a','d']]"
   ]
  },
  {
   "cell_type": "code",
   "execution_count": null,
   "id": "ee41bc77",
   "metadata": {},
   "outputs": [],
   "source": [
    "s3.loc['a': 'd']"
   ]
  },
  {
   "cell_type": "markdown",
   "id": "465fda8f",
   "metadata": {},
   "source": [
    "#### Boolean Indexing"
   ]
  },
  {
   "cell_type": "code",
   "execution_count": null,
   "id": "a039d636",
   "metadata": {},
   "outputs": [],
   "source": [
    "s4 = pd.Series([100, 300, 400, 500, 600], index=['a','z','b','k','n'])\n",
    "s4"
   ]
  },
  {
   "cell_type": "code",
   "execution_count": null,
   "id": "84ecf8cf",
   "metadata": {},
   "outputs": [],
   "source": [
    "s4.loc[[True, False, True, False, True]]"
   ]
  },
  {
   "cell_type": "code",
   "execution_count": null,
   "id": "3eec2407",
   "metadata": {},
   "outputs": [],
   "source": [
    "mask = s4 >= 400\n",
    "mask"
   ]
  },
  {
   "cell_type": "code",
   "execution_count": null,
   "id": "1a14cfd2",
   "metadata": {},
   "outputs": [],
   "source": [
    "s4.loc[mask]"
   ]
  },
  {
   "cell_type": "markdown",
   "id": "8e308696",
   "metadata": {},
   "source": [
    "## DataFrame "
   ]
  },
  {
   "cell_type": "code",
   "execution_count": null,
   "id": "4ca10a1b",
   "metadata": {},
   "outputs": [],
   "source": [
    "Image(url='../Assets/dataframe.png', width=900, height=900)"
   ]
  },
  {
   "cell_type": "code",
   "execution_count": null,
   "id": "9d22e807",
   "metadata": {},
   "outputs": [],
   "source": [
    "data_frame = pd.DataFrame(np.arange(20).reshape(5,4), columns=['A','B','C','D'], index=['p','q','r','s','t'])"
   ]
  },
  {
   "cell_type": "code",
   "execution_count": null,
   "id": "919799d8",
   "metadata": {},
   "outputs": [],
   "source": [
    "data_frame"
   ]
  },
  {
   "cell_type": "code",
   "execution_count": null,
   "id": "7af2fb5a",
   "metadata": {},
   "outputs": [],
   "source": [
    "data_frame.columns, data_frame.index"
   ]
  },
  {
   "cell_type": "code",
   "execution_count": null,
   "id": "602483e5",
   "metadata": {},
   "outputs": [],
   "source": [
    "data_frame.values"
   ]
  },
  {
   "cell_type": "code",
   "execution_count": null,
   "id": "c839e6fe",
   "metadata": {},
   "outputs": [],
   "source": [
    "row_1 =  data_frame.loc['r', :]\n",
    "row_1"
   ]
  },
  {
   "cell_type": "code",
   "execution_count": null,
   "id": "fe1b8dc3",
   "metadata": {},
   "outputs": [],
   "source": [
    "type(row_1)"
   ]
  },
  {
   "cell_type": "code",
   "execution_count": null,
   "id": "68d7b455",
   "metadata": {},
   "outputs": [],
   "source": [
    "col_1 =data_frame.loc[:, 'A']\n",
    "col_1"
   ]
  },
  {
   "cell_type": "code",
   "execution_count": null,
   "id": "98158821",
   "metadata": {},
   "outputs": [],
   "source": [
    "type(col_1)"
   ]
  },
  {
   "cell_type": "markdown",
   "id": "6b6374a5",
   "metadata": {},
   "source": [
    "### Selecting Data "
   ]
  },
  {
   "cell_type": "code",
   "execution_count": null,
   "id": "5e14ff51",
   "metadata": {},
   "outputs": [],
   "source": [
    "data_frame = pd.DataFrame(np.arange(20,40).reshape(5,4), columns=['A','B','C','D'], index=['a','b','c','d','e'])"
   ]
  },
  {
   "cell_type": "code",
   "execution_count": null,
   "id": "793a1fe3",
   "metadata": {},
   "outputs": [],
   "source": [
    "data_frame"
   ]
  },
  {
   "cell_type": "markdown",
   "id": "5e46bdb7",
   "metadata": {},
   "source": [
    "#### Methods to avoid "
   ]
  },
  {
   "cell_type": "code",
   "execution_count": null,
   "id": "d47c5d82",
   "metadata": {},
   "outputs": [],
   "source": [
    "data_frame['A']"
   ]
  },
  {
   "cell_type": "code",
   "execution_count": null,
   "id": "74193662",
   "metadata": {},
   "outputs": [],
   "source": [
    "data_frame[['A','B','C']]"
   ]
  },
  {
   "cell_type": "code",
   "execution_count": null,
   "id": "f5bf6fe5",
   "metadata": {},
   "outputs": [],
   "source": [
    "data_frame[0:2]"
   ]
  },
  {
   "cell_type": "code",
   "execution_count": null,
   "id": "1b211588",
   "metadata": {},
   "outputs": [],
   "source": [
    "data_frame['a':'b']"
   ]
  },
  {
   "cell_type": "markdown",
   "id": "ce8b3580",
   "metadata": {},
   "source": [
    "#### Position Based Indexing"
   ]
  },
  {
   "cell_type": "markdown",
   "id": "c3a0fd41",
   "metadata": {},
   "source": [
    "`Syntax :  data_frame.iloc[ <row_selection>, <column_selection> ]  `\n",
    "\n",
    " `<row_selection> and <column_selection> can be`\n",
    "\n",
    " - Single Position - 10\n",
    " - List of Positions - [0, 4, 10]\n",
    " - Slices of positions - 0 : 10\n",
    "     - Empty Slice \" : \"  means all positions from 0 to -1"
   ]
  },
  {
   "cell_type": "code",
   "execution_count": null,
   "id": "899c2af7",
   "metadata": {},
   "outputs": [],
   "source": [
    "data_frame"
   ]
  },
  {
   "cell_type": "code",
   "execution_count": null,
   "id": "a30f354c",
   "metadata": {},
   "outputs": [],
   "source": [
    "data_frame.iloc[[0, 1, 3] , 0: 3]"
   ]
  },
  {
   "cell_type": "markdown",
   "id": "98d7f1c4",
   "metadata": {},
   "source": [
    "#### Label Based Indexing "
   ]
  },
  {
   "cell_type": "markdown",
   "id": "85d41e69",
   "metadata": {},
   "source": [
    "`Syntax :  data_frame.loc[ <row_selection>, <column_selection> ]  `\n",
    "\n",
    " `<row_selection> and <column_selection> can be`\n",
    "\n",
    " - Single Label - 'a'\n",
    " - List of Labels -  `[ 'a', 'b', 'd']`\n",
    " - Slices of Labels - 'a' : 'd'\n",
    "     - Empty Slice \" : \"  means all positions from first label to last label"
   ]
  },
  {
   "cell_type": "code",
   "execution_count": null,
   "id": "994bb945",
   "metadata": {},
   "outputs": [],
   "source": [
    "data_frame"
   ]
  },
  {
   "cell_type": "code",
   "execution_count": null,
   "id": "fa780677",
   "metadata": {},
   "outputs": [],
   "source": [
    "data_frame.loc[:, ['A','B','D']]"
   ]
  },
  {
   "cell_type": "code",
   "execution_count": null,
   "id": "744d05ee",
   "metadata": {},
   "outputs": [],
   "source": [
    "data_frame.loc[['a','d'], 'A':'C']"
   ]
  },
  {
   "cell_type": "markdown",
   "id": "19ff81e0",
   "metadata": {},
   "source": [
    "####  Combining Position and Label based indexing "
   ]
  },
  {
   "cell_type": "code",
   "execution_count": null,
   "id": "6f132f33",
   "metadata": {},
   "outputs": [],
   "source": [
    "data_frame"
   ]
  },
  {
   "cell_type": "code",
   "execution_count": null,
   "id": "f969148c",
   "metadata": {},
   "outputs": [],
   "source": [
    "data_frame.iloc[[0,1], data_frame.columns.get_indexer(['A','C'])]"
   ]
  },
  {
   "cell_type": "code",
   "execution_count": null,
   "id": "52b56048",
   "metadata": {},
   "outputs": [],
   "source": [
    "data_frame.loc[data_frame.index[[0, 1]], ['A','C']]"
   ]
  },
  {
   "cell_type": "markdown",
   "id": "bd003ce9",
   "metadata": {},
   "source": [
    "#### Boolean Indexing/ Logical Selection"
   ]
  },
  {
   "cell_type": "markdown",
   "id": "b30efb1f",
   "metadata": {},
   "source": [
    "`Syntax :  data_frame.loc[ <row_selection>, <column_selection> ]  where`\n",
    "\n",
    "     - <row_selection> can be a boolean array/list or series with same number of elements as number of rows in \n",
    "       dataframe\n",
    "     - <column_selection> can be a boolean array/list or series with same number of elements as number of column in \n",
    "       dataframe\n"
   ]
  },
  {
   "cell_type": "code",
   "execution_count": null,
   "id": "002e633a",
   "metadata": {},
   "outputs": [],
   "source": [
    "data_frame"
   ]
  },
  {
   "cell_type": "code",
   "execution_count": null,
   "id": "41911504",
   "metadata": {},
   "outputs": [],
   "source": [
    "data_frame.loc[[True, False, True, True, True], [False, False, True, True]]"
   ]
  },
  {
   "cell_type": "code",
   "execution_count": null,
   "id": "a70b8cca",
   "metadata": {},
   "outputs": [],
   "source": [
    "data_frame"
   ]
  },
  {
   "cell_type": "code",
   "execution_count": null,
   "id": "db6ca3fc",
   "metadata": {},
   "outputs": [],
   "source": [
    "mask1 = data_frame['A'] > 25"
   ]
  },
  {
   "cell_type": "code",
   "execution_count": null,
   "id": "f70d010b",
   "metadata": {},
   "outputs": [],
   "source": [
    "mask1"
   ]
  },
  {
   "cell_type": "code",
   "execution_count": null,
   "id": "2a0febd8",
   "metadata": {},
   "outputs": [],
   "source": [
    "data_frame.loc[mask1, [False, False, True, True]]"
   ]
  },
  {
   "cell_type": "code",
   "execution_count": null,
   "id": "c705870b",
   "metadata": {},
   "outputs": [],
   "source": [
    "data_frame.loc[mask1, :]"
   ]
  },
  {
   "cell_type": "code",
   "execution_count": null,
   "id": "7e21645e",
   "metadata": {},
   "outputs": [],
   "source": [
    "mask2 = data_frame['A'] > 30\n",
    "mask3 = data_frame['B'] > 28"
   ]
  },
  {
   "cell_type": "code",
   "execution_count": null,
   "id": "ca1635c1",
   "metadata": {},
   "outputs": [],
   "source": [
    "mask2"
   ]
  },
  {
   "cell_type": "code",
   "execution_count": null,
   "id": "9d5a8f15",
   "metadata": {},
   "outputs": [],
   "source": [
    "mask3"
   ]
  },
  {
   "cell_type": "code",
   "execution_count": null,
   "id": "71f6a993",
   "metadata": {},
   "outputs": [],
   "source": [
    "mask2 | mask3"
   ]
  },
  {
   "cell_type": "code",
   "execution_count": null,
   "id": "dfd11f3f",
   "metadata": {},
   "outputs": [],
   "source": [
    "data_frame.loc[mask2 | mask3, :]"
   ]
  },
  {
   "cell_type": "code",
   "execution_count": null,
   "id": "f18508f1",
   "metadata": {},
   "outputs": [],
   "source": [
    "data_frame"
   ]
  },
  {
   "cell_type": "markdown",
   "id": "0fb02f4c",
   "metadata": {},
   "source": [
    "### Setting a value"
   ]
  },
  {
   "cell_type": "code",
   "execution_count": null,
   "id": "97dbc18d",
   "metadata": {},
   "outputs": [],
   "source": [
    "data_frame = pd.DataFrame(np.arange(20,40).reshape(5,4), columns=['A','B','C','D'], index=['a','b','c','d','e'])\n",
    "data_frame"
   ]
  },
  {
   "cell_type": "code",
   "execution_count": null,
   "id": "1c131703",
   "metadata": {},
   "outputs": [],
   "source": [
    "data_frame.loc[['a','b','c','d'], ['D']] = 0 \n",
    "data_frame"
   ]
  },
  {
   "cell_type": "markdown",
   "id": "3f2ed347",
   "metadata": {},
   "source": [
    "# Things to keep in Mind "
   ]
  },
  {
   "cell_type": "markdown",
   "id": "4e3de557",
   "metadata": {},
   "source": [
    "## Returning a View Vs Copy"
   ]
  },
  {
   "cell_type": "markdown",
   "id": "0b5d7954",
   "metadata": {},
   "source": [
    "### Returning a View vs Copy Numpy"
   ]
  },
  {
   "cell_type": "code",
   "execution_count": null,
   "id": "648b9819",
   "metadata": {},
   "outputs": [],
   "source": [
    "array = np.arange(10)\n",
    "array_view = array[1:7]\n",
    "array_copy = array[[1,2,3,4,5,6]]\n",
    "\n",
    "print('original array', array)\n",
    "print('array view', array_view)\n",
    "print('array copy', array_copy)"
   ]
  },
  {
   "cell_type": "code",
   "execution_count": null,
   "id": "600d8c9f",
   "metadata": {},
   "outputs": [],
   "source": [
    "array_view[0] = -200\n",
    "print('original array', array)\n",
    "print('array view', array_view)\n",
    "print('array copy', array_copy)"
   ]
  },
  {
   "cell_type": "code",
   "execution_count": null,
   "id": "f9cf7907",
   "metadata": {},
   "outputs": [],
   "source": [
    "array_copy[0] = -400\n",
    "print('original array', array)\n",
    "print('array view', array_view)\n",
    "print('array copy', array_copy)"
   ]
  },
  {
   "cell_type": "markdown",
   "id": "f1ab93de",
   "metadata": {},
   "source": [
    "### Returning a View Vs Copy Pandas "
   ]
  },
  {
   "cell_type": "code",
   "execution_count": null,
   "id": "5f9da5a9",
   "metadata": {},
   "outputs": [],
   "source": [
    "data_frame = pd.DataFrame(np.arange(100,120).reshape(5,4), columns=['A','B','C','D'], index=['a','b','c','d','e'])\n",
    "data_frame_view = data_frame.loc['a':'e', :]\n",
    "data_frame_copy = data_frame.loc[['a','b','c','d','e'], ['A','B','C','D']]\n",
    "\n",
    "print('----------------------------')\n",
    "print('Original Data Frame')\n",
    "print(data_frame)\n",
    "print('----------------------------')\n",
    "print('Data Frame View')\n",
    "print(data_frame_view)\n",
    "print('----------------------------')\n",
    "print('Data Frame Copy')\n",
    "print(data_frame_copy)\n",
    "print('----------------------------')"
   ]
  },
  {
   "cell_type": "code",
   "execution_count": null,
   "id": "076c090f",
   "metadata": {},
   "outputs": [],
   "source": [
    "data_frame_view.loc[:, 'D'] = 0\n",
    "print('----------------------------')\n",
    "print('Original Data Frame')\n",
    "print(data_frame)\n",
    "print('----------------------------')\n",
    "print('Data Frame View')\n",
    "print(data_frame_view)\n",
    "print('----------------------------')\n",
    "print('Data Frame Copy')\n",
    "print(data_frame_copy)\n",
    "print('----------------------------')"
   ]
  },
  {
   "cell_type": "code",
   "execution_count": null,
   "id": "3f39d3b7",
   "metadata": {},
   "outputs": [],
   "source": [
    "data_frame_copy.loc[:, 'A'] = -100\n",
    "print('----------------------------')\n",
    "print('Original Data Frame')\n",
    "print(data_frame)\n",
    "print('----------------------------')\n",
    "print('Data Frame View')\n",
    "print(data_frame_view)\n",
    "print('----------------------------')\n",
    "print('Data Frame Copy')\n",
    "print(data_frame_copy)\n",
    "print('----------------------------')"
   ]
  },
  {
   "cell_type": "markdown",
   "id": "223c7778",
   "metadata": {},
   "source": [
    "## Pandas always aligns on index for series and dataframe "
   ]
  },
  {
   "cell_type": "markdown",
   "id": "045d041b",
   "metadata": {},
   "source": [
    "### Arrays Addition"
   ]
  },
  {
   "cell_type": "code",
   "execution_count": null,
   "id": "215880bb",
   "metadata": {},
   "outputs": [],
   "source": [
    "Image(url='../Assets/ArraysAddition.png', width=900, height=900)"
   ]
  },
  {
   "cell_type": "code",
   "execution_count": null,
   "id": "b263eb98",
   "metadata": {},
   "outputs": [],
   "source": [
    "a1 = np.array([10,20,30,40,50])\n",
    "b1 = np.array([100, 200, 300, 400, 500])\n",
    "a1 + b1"
   ]
  },
  {
   "cell_type": "markdown",
   "id": "d5ef2b13",
   "metadata": {},
   "source": [
    "### Series Addition "
   ]
  },
  {
   "cell_type": "code",
   "execution_count": null,
   "id": "ddbb3d41",
   "metadata": {},
   "outputs": [],
   "source": [
    "Image(url='../Assets/SeriesAddition.png', width=900, height=900)"
   ]
  },
  {
   "cell_type": "code",
   "execution_count": null,
   "id": "827f5601",
   "metadata": {},
   "outputs": [],
   "source": [
    "s1 = pd.Series([10, 20, 30, 40,50], index=['a','b','c','d','e'])\n",
    "s2 = pd.Series([100, 200, 300, 400, 500], index=['a', 'c', 'b', 'd', 'e'])"
   ]
  },
  {
   "cell_type": "code",
   "execution_count": null,
   "id": "f3581ee7",
   "metadata": {},
   "outputs": [],
   "source": [
    "s1"
   ]
  },
  {
   "cell_type": "code",
   "execution_count": null,
   "id": "8f5fca5c",
   "metadata": {},
   "outputs": [],
   "source": [
    "s2"
   ]
  },
  {
   "cell_type": "code",
   "execution_count": null,
   "id": "01bc6842",
   "metadata": {},
   "outputs": [],
   "source": [
    "s1 + s2"
   ]
  },
  {
   "cell_type": "code",
   "execution_count": null,
   "id": "b5877fed",
   "metadata": {},
   "outputs": [],
   "source": [
    "s1 = pd.Series([1, 2, 3, 4,5], index=['a','b','c','d','e'])\n",
    "s2 = pd.Series([10, 11, 12, 13, 15], index=['a', 'b', 'e', 'c', 'f'])\n",
    "s1 + s2"
   ]
  },
  {
   "cell_type": "markdown",
   "id": "2aa63eca",
   "metadata": {},
   "source": [
    "### Columns assignment "
   ]
  },
  {
   "cell_type": "code",
   "execution_count": null,
   "id": "3f185e30",
   "metadata": {},
   "outputs": [],
   "source": [
    "df1 = pd.DataFrame(np.arange(20).reshape(5,4), columns=['A','B','C','D'], index=['a','b','c','d','e'])\n",
    "df2 = pd.DataFrame(np.arange(10).reshape(5,2), columns=['E', 'F'], index=['a','b','d','c','e'])"
   ]
  },
  {
   "cell_type": "code",
   "execution_count": null,
   "id": "aab8019a",
   "metadata": {},
   "outputs": [],
   "source": [
    "df1"
   ]
  },
  {
   "cell_type": "code",
   "execution_count": null,
   "id": "6b06bbd6",
   "metadata": {},
   "outputs": [],
   "source": [
    "df2"
   ]
  },
  {
   "cell_type": "code",
   "execution_count": null,
   "id": "6bbdb006",
   "metadata": {},
   "outputs": [],
   "source": [
    "Image(url='../Assets/PandasColumnsIndexing.png', width=900, height=900)"
   ]
  },
  {
   "cell_type": "code",
   "execution_count": null,
   "id": "0a345c59",
   "metadata": {},
   "outputs": [],
   "source": [
    "df1.loc[:, 'E'] = df2['E']"
   ]
  },
  {
   "cell_type": "code",
   "execution_count": null,
   "id": "39d56472",
   "metadata": {},
   "outputs": [],
   "source": [
    "df1"
   ]
  },
  {
   "cell_type": "markdown",
   "id": "989355ca",
   "metadata": {},
   "source": [
    "# Matplotlib Basics "
   ]
  },
  {
   "cell_type": "markdown",
   "id": "4280c3c8",
   "metadata": {},
   "source": [
    "## Anatomy of a matplotlib figure "
   ]
  },
  {
   "cell_type": "code",
   "execution_count": null,
   "id": "5cb7ddfe",
   "metadata": {},
   "outputs": [],
   "source": [
    "Image(url='../Assets/anatomy.png', width=900, height=900)"
   ]
  },
  {
   "cell_type": "markdown",
   "id": "3fab26ba",
   "metadata": {},
   "source": [
    "## Fig Vs Axes "
   ]
  },
  {
   "cell_type": "code",
   "execution_count": null,
   "id": "8177897b",
   "metadata": {},
   "outputs": [],
   "source": [
    "Image(url='../Assets/subplots.png', width=900, height=900)"
   ]
  },
  {
   "cell_type": "code",
   "execution_count": null,
   "id": "4b566f20",
   "metadata": {},
   "outputs": [],
   "source": [
    "Image(url='../Assets/seaborn_basics.png', width=900, height=900)"
   ]
  },
  {
   "cell_type": "markdown",
   "id": "ca380d83",
   "metadata": {},
   "source": [
    "### Line Plot "
   ]
  },
  {
   "cell_type": "code",
   "execution_count": null,
   "id": "09c37290",
   "metadata": {},
   "outputs": [],
   "source": [
    "fig,axes = plt.subplots(nrows=1, ncols=1, figsize=(15,10))\n",
    "x = np.arange(100)\n",
    "y = np.random.random(100)\n",
    "axes.plot(x,y,marker='o')"
   ]
  },
  {
   "cell_type": "markdown",
   "id": "96fbe8a3",
   "metadata": {},
   "source": [
    "### Scatter Plot "
   ]
  },
  {
   "cell_type": "code",
   "execution_count": null,
   "id": "a9f05ecf",
   "metadata": {},
   "outputs": [],
   "source": [
    "fig,axes = plt.subplots(nrows=1, ncols=1, figsize=(15,10))\n",
    "x = np.arange(100)\n",
    "y = np.arange(200,300)\n",
    "axes.scatter(x,y)\n"
   ]
  },
  {
   "cell_type": "markdown",
   "id": "cf979679",
   "metadata": {},
   "source": [
    "## Multiple Subplots "
   ]
  },
  {
   "cell_type": "code",
   "execution_count": null,
   "id": "a72cc4b5",
   "metadata": {},
   "outputs": [],
   "source": [
    "fig,axes = plt.subplots(nrows=2, ncols=3, figsize=(15,10), sharey=True)\n",
    "print(type(axes), axes.shape)\n"
   ]
  },
  {
   "cell_type": "code",
   "execution_count": null,
   "id": "7d124cad",
   "metadata": {},
   "outputs": [],
   "source": [
    "fig,axes = plt.subplots(nrows=2, ncols=3, figsize=(15,10), sharey=True)\n",
    "axes[0][0].plot([1,2,3])\n",
    "axes[1][2].plot([6,7,8])\n",
    "axes[0][1].set_title('This is Axes  0 1')"
   ]
  },
  {
   "cell_type": "markdown",
   "id": "9ab40b5f",
   "metadata": {},
   "source": [
    "## Common Modifications using Axes reference "
   ]
  },
  {
   "cell_type": "markdown",
   "id": "f9b39145",
   "metadata": {},
   "source": [
    "```\n",
    "Axes.set_xlabel()         Axes.set_ylabel()\n",
    "Axes.set_xlim()           Axes.set_ylim()\n",
    "Axes.set_xticks()         Axes.set_yticks()\n",
    "Axes.set_xticklabels()    Axes.set_yticklabels()\n",
    "Axes.set_title()\n",
    "Axes.tick_params()\n",
    "```"
   ]
  },
  {
   "cell_type": "code",
   "execution_count": null,
   "id": "926713c5",
   "metadata": {},
   "outputs": [],
   "source": [
    "dates = [\n",
    "    '1981-01-01', '1981-01-02', '1981-01-03', '1981-01-04', '1981-01-05',\n",
    "    '1981-01-06', '1981-01-07', '1981-01-08', '1981-01-09', '1981-01-10'\n",
    "]\n",
    "\n",
    "min_temperature = [20.7, 17.9, 18.8, 14.6, 15.8, 15.8, 15.8, 17.4, 21.8, 20.0]\n",
    "max_temperature = [34.7, 28.9, 31.8, 25.6, 28.8, 21.8, 22.8, 28.4, 30.8, 32.0]\n",
    "\n",
    "fontsize =20\n",
    "fig,axes = plt.subplots(nrows=1, ncols=1,figsize=(15,10))\n",
    "axes.plot(dates, min_temperature, label='Min Temperature')\n",
    "axes.plot(dates, max_temperature, label='Max Temperature')\n",
    "\n",
    "\n",
    "axes.set_xlabel('Date',fontsize=fontsize)\n",
    "axes.set_ylabel('Temperature',fontsize=fontsize)\n",
    "\n",
    "axes.set_title('Daily Min and Max Temperature',fontsize=fontsize)\n",
    "\n",
    "\n",
    "axes.tick_params('x', labelsize=fontsize, labelrotation=45, size=15)\n",
    "\n",
    "\n",
    "axes.set_ylim(10,40)\n",
    "axes.set_yticks(np.arange(10,41,2))\n",
    "axes.tick_params('y',labelsize=fontsize)\n",
    "\n",
    "axes.legend(fontsize=fontsize,loc='upper left', bbox_to_anchor=(1,1))"
   ]
  },
  {
   "cell_type": "markdown",
   "id": "3298c606",
   "metadata": {},
   "source": [
    "# Try it Yourself "
   ]
  },
  {
   "cell_type": "code",
   "execution_count": null,
   "id": "1fe216c7",
   "metadata": {},
   "outputs": [],
   "source": [
    "iris_dataset = '../Datasets/iris.csv'\n",
    "tips_dataset = '../Datasets/tips.csv'\n",
    "tips = pd.read_csv(tips_dataset)\n",
    "iris = pd.read_csv(iris_dataset)"
   ]
  },
  {
   "cell_type": "code",
   "execution_count": null,
   "id": "58ef189c",
   "metadata": {},
   "outputs": [],
   "source": [
    "tips.head(10)"
   ]
  },
  {
   "cell_type": "code",
   "execution_count": null,
   "id": "0d0207dd",
   "metadata": {},
   "outputs": [],
   "source": [
    "tips.tail()"
   ]
  },
  {
   "cell_type": "markdown",
   "id": "fed585f4",
   "metadata": {},
   "source": [
    "## Questions "
   ]
  },
  {
   "cell_type": "markdown",
   "id": "9884ec02",
   "metadata": {},
   "source": [
    "### Fetch all column names from tips dataset"
   ]
  },
  {
   "cell_type": "markdown",
   "id": "4269ff15",
   "metadata": {},
   "source": [
    "### Fetch only the following columns\n",
    "\n",
    "* tip\n",
    "* smoker\n",
    "* time"
   ]
  },
  {
   "cell_type": "markdown",
   "id": "bfff5c5b",
   "metadata": {},
   "source": [
    "### Fetch columns at position 0, 3, 5"
   ]
  },
  {
   "cell_type": "markdown",
   "id": "488a474b",
   "metadata": {},
   "source": [
    "### Fetch all rows where tip is greater than 5"
   ]
  },
  {
   "cell_type": "markdown",
   "id": "56e4740d",
   "metadata": {},
   "source": [
    "###  Fetch all rows where tip is less than 5 and time is 'lunch'"
   ]
  },
  {
   "cell_type": "markdown",
   "id": "a5193b9e",
   "metadata": {},
   "source": [
    "###  \n",
    "* Fetch all rows where the person is a smoker and time is \"Dinner\"\n",
    "* From rows fetched in above step, select rows at position [10, 20, 30]"
   ]
  },
  {
   "cell_type": "markdown",
   "id": "336f1e32",
   "metadata": {},
   "source": [
    "###  Scatter Plot\n",
    "\n",
    "\n",
    "* Make a scatter plot with tip on x-axis and total_bill on y-axis\n",
    "* Add appropriate labels on axis\n",
    "* Add title to your plot"
   ]
  },
  {
   "cell_type": "markdown",
   "id": "71ba4272",
   "metadata": {},
   "source": [
    "###  Scatter Plot with legends and labels\n",
    "\n",
    "* Fetch all rows for 'Male'\n",
    "* Fetch all rows for 'Female'\n",
    "\n",
    "* Make a single scatter plot with tip on x-axis and total_bill on y-axis for Male\n",
    "* Make a single scatter plot with tip on x-axis and total_bill on y-axis for Female\n",
    "* Add appropriate lables and legend"
   ]
  },
  {
   "cell_type": "markdown",
   "id": "150202b6",
   "metadata": {},
   "source": [
    "## Solutions "
   ]
  },
  {
   "cell_type": "markdown",
   "id": "1da4468b",
   "metadata": {},
   "source": [
    "### ."
   ]
  },
  {
   "cell_type": "code",
   "execution_count": null,
   "id": "80892f67",
   "metadata": {},
   "outputs": [],
   "source": [
    "tips.columns"
   ]
  },
  {
   "cell_type": "markdown",
   "id": "5fedc7c3",
   "metadata": {},
   "source": [
    "### . "
   ]
  },
  {
   "cell_type": "code",
   "execution_count": null,
   "id": "a139ffc2",
   "metadata": {},
   "outputs": [],
   "source": [
    "tips.loc[:, ['tip','smoker','time']]"
   ]
  },
  {
   "cell_type": "markdown",
   "id": "5ce8db8d",
   "metadata": {},
   "source": [
    "### . "
   ]
  },
  {
   "cell_type": "code",
   "execution_count": null,
   "id": "739cbffa",
   "metadata": {},
   "outputs": [],
   "source": [
    "\n",
    "tips.iloc[:, [0,3,5]]"
   ]
  },
  {
   "cell_type": "markdown",
   "id": "4b0b6591",
   "metadata": {},
   "source": [
    "### . "
   ]
  },
  {
   "cell_type": "code",
   "execution_count": null,
   "id": "7961c60d",
   "metadata": {},
   "outputs": [],
   "source": [
    "c1 = tips['tip'] > 5\n",
    "tips.loc[c1]"
   ]
  },
  {
   "cell_type": "markdown",
   "id": "31db7fe1",
   "metadata": {},
   "source": [
    "### . "
   ]
  },
  {
   "cell_type": "code",
   "execution_count": null,
   "id": "b218f76f",
   "metadata": {},
   "outputs": [],
   "source": [
    "c1 = tips['tip'] < 5\n",
    "c2 = tips['time'] == 'Lunch'\n",
    "tips.loc[c1 & c2, :]"
   ]
  },
  {
   "cell_type": "markdown",
   "id": "0fd02d51",
   "metadata": {},
   "source": [
    "### . "
   ]
  },
  {
   "cell_type": "code",
   "execution_count": null,
   "id": "7d9bbfbc",
   "metadata": {},
   "outputs": [],
   "source": [
    "c1 = tips['smoker'] == 'Yes'\n",
    "c2 = tips['time'] == 'Dinner'\n",
    "tips.loc[c1 & c2].iloc[[10,20,30]]"
   ]
  },
  {
   "cell_type": "code",
   "execution_count": null,
   "id": "4321c32a",
   "metadata": {},
   "outputs": [],
   "source": [
    "fig,axes = plt.subplots(figsize=(15,10))\n",
    "axes.scatter(tips['tip'].values, tips['total_bill'].values)\n",
    "axes.set_xlabel('tip')\n",
    "axes.set_ylabel('total_bill')\n",
    "axes.set_title('Tip Vs Total Bill')"
   ]
  },
  {
   "cell_type": "code",
   "execution_count": null,
   "id": "f3acaf73",
   "metadata": {},
   "outputs": [],
   "source": [
    "c1 = tips['sex'] == 'Male'\n",
    "c2 = tips['sex'] == 'Female'\n",
    "\n",
    "male_data = tips.loc[c1]\n",
    "female_data = tips.loc[c2]\n",
    "\n",
    "fig,axes = plt.subplots(figsize=(15,10))\n",
    "axes.scatter(male_data['tip'].values, male_data['total_bill'].values, label='Male')\n",
    "axes.scatter(female_data['tip'].values, female_data['total_bill'].values, label='Female')\n",
    "axes.legend()\n",
    "axes.set_xlabel('tip')\n",
    "axes.set_ylabel('total_bill')"
   ]
  }
 ],
 "metadata": {
  "kernelspec": {
   "display_name": "greensight_venv",
   "language": "python",
   "name": "greensight_venv"
  },
  "language_info": {
   "codemirror_mode": {
    "name": "ipython",
    "version": 3
   },
   "file_extension": ".py",
   "mimetype": "text/x-python",
   "name": "python",
   "nbconvert_exporter": "python",
   "pygments_lexer": "ipython3",
   "version": "3.8.9"
  },
  "toc": {
   "base_numbering": 1,
   "nav_menu": {},
   "number_sections": true,
   "sideBar": true,
   "skip_h1_title": false,
   "title_cell": "Table of Contents",
   "title_sidebar": "Contents",
   "toc_cell": false,
   "toc_position": {
    "height": "calc(100% - 180px)",
    "left": "10px",
    "top": "150px",
    "width": "398.212px"
   },
   "toc_section_display": true,
   "toc_window_display": true
  }
 },
 "nbformat": 4,
 "nbformat_minor": 5
}
