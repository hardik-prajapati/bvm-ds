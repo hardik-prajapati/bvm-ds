{
 "cells": [
  {
   "cell_type": "markdown",
   "metadata": {},
   "source": [
    "# Introduction\n",
    "You are hired as a data scientist by Zomato. In order for Zomato make certain decisions about their organizational operations in the city of Ahmedabad they need insights from the data about restaurants that they have calculated. Your job will be to address the questions asked by the operations team and answer them by providing concrete visualisations for your conclusions."
   ]
  },
  {
   "cell_type": "markdown",
   "metadata": {},
   "source": [
    "# Loading Data and Depdendencies"
   ]
  },
  {
   "cell_type": "code",
   "execution_count": 2,
   "metadata": {},
   "outputs": [],
   "source": [
    "import pandas as pd\n",
    "import numpy as np\n",
    "import matplotlib.pyplot as plt\n",
    "import os"
   ]
  },
  {
   "cell_type": "code",
   "execution_count": null,
   "metadata": {},
   "outputs": [],
   "source": [
    "# --- Additional Imports Go Here --- #"
   ]
  },
  {
   "cell_type": "code",
   "execution_count": 4,
   "metadata": {},
   "outputs": [],
   "source": [
    "FILE_PATH = \"../Datasets/Ahmedabad.csv\"\n",
    "zomato_data = pd.read_csv(FILE_PATH, sep='|')"
   ]
  },
  {
   "cell_type": "markdown",
   "metadata": {},
   "source": [
    "# Basic Dataset Overview"
   ]
  },
  {
   "cell_type": "code",
   "execution_count": 6,
   "metadata": {},
   "outputs": [
    {
     "data": {
      "text/html": [
       "<div>\n",
       "<style scoped>\n",
       "    .dataframe tbody tr th:only-of-type {\n",
       "        vertical-align: middle;\n",
       "    }\n",
       "\n",
       "    .dataframe tbody tr th {\n",
       "        vertical-align: top;\n",
       "    }\n",
       "\n",
       "    .dataframe thead th {\n",
       "        text-align: right;\n",
       "    }\n",
       "</style>\n",
       "<table border=\"1\" class=\"dataframe\">\n",
       "  <thead>\n",
       "    <tr style=\"text-align: right;\">\n",
       "      <th></th>\n",
       "      <th>Unnamed: 0</th>\n",
       "      <th>NAME</th>\n",
       "      <th>PRICE</th>\n",
       "      <th>CUSINE_CATEGORY</th>\n",
       "      <th>CITY</th>\n",
       "      <th>REGION</th>\n",
       "      <th>URL</th>\n",
       "      <th>PAGE NO</th>\n",
       "      <th>CUSINE TYPE</th>\n",
       "      <th>TIMING</th>\n",
       "      <th>RATING_TYPE</th>\n",
       "      <th>RATING</th>\n",
       "      <th>VOTES</th>\n",
       "    </tr>\n",
       "  </thead>\n",
       "  <tbody>\n",
       "    <tr>\n",
       "      <th>0</th>\n",
       "      <td>0</td>\n",
       "      <td>Eat Punjab</td>\n",
       "      <td>750</td>\n",
       "      <td>North Indian,Chinese,Fast Food</td>\n",
       "      <td>Ahmedabad</td>\n",
       "      <td>Chandkheda</td>\n",
       "      <td>https://www.zomato.com/ahmedabad/eat-punjab-ch...</td>\n",
       "      <td>1</td>\n",
       "      <td>Casual Dining</td>\n",
       "      <td>1030am to 330pm,630pm to 1130pm(Mon-Sun)</td>\n",
       "      <td>Good</td>\n",
       "      <td>3.7</td>\n",
       "      <td>1345</td>\n",
       "    </tr>\n",
       "    <tr>\n",
       "      <th>1</th>\n",
       "      <td>1</td>\n",
       "      <td>9834 The Fruit Truck</td>\n",
       "      <td>400</td>\n",
       "      <td>Beverages,Desserts</td>\n",
       "      <td>Ahmedabad</td>\n",
       "      <td>Food Truck Park</td>\n",
       "      <td>https://www.zomato.com/9834-the-fruit-truck-fo...</td>\n",
       "      <td>1</td>\n",
       "      <td>Food Truck</td>\n",
       "      <td>9am to 1am(Mon-Sun)</td>\n",
       "      <td>Very Good</td>\n",
       "      <td>4.4</td>\n",
       "      <td>561</td>\n",
       "    </tr>\n",
       "    <tr>\n",
       "      <th>2</th>\n",
       "      <td>2</td>\n",
       "      <td>The Esplendido Cafe</td>\n",
       "      <td>800</td>\n",
       "      <td>Cafe,American,Italian,Chinese,Beverages</td>\n",
       "      <td>Ahmedabad</td>\n",
       "      <td>Navrangpura</td>\n",
       "      <td>https://www.zomato.com/ahmedabad/the-esplendid...</td>\n",
       "      <td>1</td>\n",
       "      <td>Café</td>\n",
       "      <td>1130am to 1130pm(Mon-Tue),12noon to 1130pm...</td>\n",
       "      <td>Very Good</td>\n",
       "      <td>4.4</td>\n",
       "      <td>1013</td>\n",
       "    </tr>\n",
       "    <tr>\n",
       "      <th>3</th>\n",
       "      <td>3</td>\n",
       "      <td>Makeba - The Lounge Cafe</td>\n",
       "      <td>1000</td>\n",
       "      <td>Cafe,Italian,Mexican,Healthy Food</td>\n",
       "      <td>Ahmedabad</td>\n",
       "      <td>Vastrapur</td>\n",
       "      <td>https://www.zomato.com/ahmedabad/makeba-the-lo...</td>\n",
       "      <td>1</td>\n",
       "      <td>Café</td>\n",
       "      <td>12noon to 12midnight(Mon-Sun)</td>\n",
       "      <td>Very Good</td>\n",
       "      <td>4.2</td>\n",
       "      <td>399</td>\n",
       "    </tr>\n",
       "    <tr>\n",
       "      <th>4</th>\n",
       "      <td>4</td>\n",
       "      <td>Honest</td>\n",
       "      <td>700</td>\n",
       "      <td>North Indian,South Indian,Fast Food,Chinese</td>\n",
       "      <td>Ahmedabad</td>\n",
       "      <td>Prahlad Nagar</td>\n",
       "      <td>https://www.zomato.com/ahmedabad/honest-prahla...</td>\n",
       "      <td>1</td>\n",
       "      <td>Casual Dining</td>\n",
       "      <td>11am to 12midnight(Mon-Sun)</td>\n",
       "      <td>Good</td>\n",
       "      <td>3.9</td>\n",
       "      <td>832</td>\n",
       "    </tr>\n",
       "  </tbody>\n",
       "</table>\n",
       "</div>"
      ],
      "text/plain": [
       "   Unnamed: 0                      NAME  PRICE  \\\n",
       "0           0                Eat Punjab    750   \n",
       "1           1      9834 The Fruit Truck    400   \n",
       "2           2       The Esplendido Cafe    800   \n",
       "3           3  Makeba - The Lounge Cafe   1000   \n",
       "4           4                    Honest    700   \n",
       "\n",
       "                               CUSINE_CATEGORY       CITY           REGION  \\\n",
       "0               North Indian,Chinese,Fast Food  Ahmedabad       Chandkheda   \n",
       "1                           Beverages,Desserts  Ahmedabad  Food Truck Park   \n",
       "2      Cafe,American,Italian,Chinese,Beverages  Ahmedabad      Navrangpura   \n",
       "3            Cafe,Italian,Mexican,Healthy Food  Ahmedabad        Vastrapur   \n",
       "4  North Indian,South Indian,Fast Food,Chinese  Ahmedabad    Prahlad Nagar   \n",
       "\n",
       "                                                 URL  PAGE NO    CUSINE TYPE  \\\n",
       "0  https://www.zomato.com/ahmedabad/eat-punjab-ch...        1  Casual Dining   \n",
       "1  https://www.zomato.com/9834-the-fruit-truck-fo...        1     Food Truck   \n",
       "2  https://www.zomato.com/ahmedabad/the-esplendid...        1           Café   \n",
       "3  https://www.zomato.com/ahmedabad/makeba-the-lo...        1           Café   \n",
       "4  https://www.zomato.com/ahmedabad/honest-prahla...        1  Casual Dining   \n",
       "\n",
       "                                          TIMING RATING_TYPE RATING VOTES  \n",
       "0       1030am to 330pm,630pm to 1130pm(Mon-Sun)        Good    3.7  1345  \n",
       "1                            9am to 1am(Mon-Sun)   Very Good    4.4   561  \n",
       "2  1130am to 1130pm(Mon-Tue),12noon to 1130pm...   Very Good    4.4  1013  \n",
       "3                  12noon to 12midnight(Mon-Sun)   Very Good    4.2   399  \n",
       "4                    11am to 12midnight(Mon-Sun)        Good    3.9   832  "
      ]
     },
     "execution_count": 6,
     "metadata": {},
     "output_type": "execute_result"
    }
   ],
   "source": [
    "zomato_data.head()"
   ]
  },
  {
   "cell_type": "code",
   "execution_count": 9,
   "metadata": {},
   "outputs": [
    {
     "data": {
      "text/plain": [
       "Unnamed: 0          int64\n",
       "NAME               object\n",
       "PRICE               int64\n",
       "CUSINE_CATEGORY    object\n",
       "CITY               object\n",
       "REGION             object\n",
       "URL                object\n",
       "PAGE NO             int64\n",
       "CUSINE TYPE        object\n",
       "TIMING             object\n",
       "RATING_TYPE        object\n",
       "RATING             object\n",
       "VOTES              object\n",
       "dtype: object"
      ]
     },
     "execution_count": 9,
     "metadata": {},
     "output_type": "execute_result"
    }
   ],
   "source": [
    "zomato_data.dtypes"
   ]
  },
  {
   "cell_type": "code",
   "execution_count": 11,
   "metadata": {},
   "outputs": [
    {
     "data": {
      "text/html": [
       "<div>\n",
       "<style scoped>\n",
       "    .dataframe tbody tr th:only-of-type {\n",
       "        vertical-align: middle;\n",
       "    }\n",
       "\n",
       "    .dataframe tbody tr th {\n",
       "        vertical-align: top;\n",
       "    }\n",
       "\n",
       "    .dataframe thead th {\n",
       "        text-align: right;\n",
       "    }\n",
       "</style>\n",
       "<table border=\"1\" class=\"dataframe\">\n",
       "  <thead>\n",
       "    <tr style=\"text-align: right;\">\n",
       "      <th></th>\n",
       "      <th>Unnamed: 0</th>\n",
       "      <th>PRICE</th>\n",
       "      <th>PAGE NO</th>\n",
       "    </tr>\n",
       "  </thead>\n",
       "  <tbody>\n",
       "    <tr>\n",
       "      <th>count</th>\n",
       "      <td>2598.000000</td>\n",
       "      <td>2598.000000</td>\n",
       "      <td>2598.000000</td>\n",
       "    </tr>\n",
       "    <tr>\n",
       "      <th>mean</th>\n",
       "      <td>6.993072</td>\n",
       "      <td>412.247883</td>\n",
       "      <td>87.407621</td>\n",
       "    </tr>\n",
       "    <tr>\n",
       "      <th>std</th>\n",
       "      <td>4.323725</td>\n",
       "      <td>223.989686</td>\n",
       "      <td>50.377571</td>\n",
       "    </tr>\n",
       "    <tr>\n",
       "      <th>min</th>\n",
       "      <td>0.000000</td>\n",
       "      <td>0.000000</td>\n",
       "      <td>1.000000</td>\n",
       "    </tr>\n",
       "    <tr>\n",
       "      <th>25%</th>\n",
       "      <td>3.000000</td>\n",
       "      <td>250.000000</td>\n",
       "      <td>44.000000</td>\n",
       "    </tr>\n",
       "    <tr>\n",
       "      <th>50%</th>\n",
       "      <td>7.000000</td>\n",
       "      <td>400.000000</td>\n",
       "      <td>87.000000</td>\n",
       "    </tr>\n",
       "    <tr>\n",
       "      <th>75%</th>\n",
       "      <td>11.000000</td>\n",
       "      <td>500.000000</td>\n",
       "      <td>131.000000</td>\n",
       "    </tr>\n",
       "    <tr>\n",
       "      <th>max</th>\n",
       "      <td>14.000000</td>\n",
       "      <td>1900.000000</td>\n",
       "      <td>175.000000</td>\n",
       "    </tr>\n",
       "  </tbody>\n",
       "</table>\n",
       "</div>"
      ],
      "text/plain": [
       "        Unnamed: 0        PRICE      PAGE NO\n",
       "count  2598.000000  2598.000000  2598.000000\n",
       "mean      6.993072   412.247883    87.407621\n",
       "std       4.323725   223.989686    50.377571\n",
       "min       0.000000     0.000000     1.000000\n",
       "25%       3.000000   250.000000    44.000000\n",
       "50%       7.000000   400.000000    87.000000\n",
       "75%      11.000000   500.000000   131.000000\n",
       "max      14.000000  1900.000000   175.000000"
      ]
     },
     "execution_count": 11,
     "metadata": {},
     "output_type": "execute_result"
    }
   ],
   "source": [
    "zomato_data.describe()"
   ]
  },
  {
   "cell_type": "markdown",
   "metadata": {},
   "source": [
    "# Areas and Prices\n",
    "The operations team would like to see which areas house the costliest restaurants and which areas have the cheapest restaurants. Can you provide suitable visualisations and metrics for the same?"
   ]
  },
  {
   "cell_type": "code",
   "execution_count": 12,
   "metadata": {},
   "outputs": [],
   "source": [
    "# --- Code Goes Here --- #"
   ]
  },
  {
   "cell_type": "markdown",
   "metadata": {},
   "source": [
    "# Popularity Contest\n",
    "The operations team would like to see which cuisine is the most popular of all the available cuisine categories. Can you provide suitable visualisations and metrics for the same?"
   ]
  },
  {
   "cell_type": "code",
   "execution_count": 13,
   "metadata": {},
   "outputs": [],
   "source": [
    "# --- Code Goes Here --- #"
   ]
  },
  {
   "cell_type": "markdown",
   "metadata": {},
   "source": [
    "# Price Tag\n",
    "The operations team would like to know how the prices are distributed across all restaurants. Can you provide a suitable visualisation for the same?"
   ]
  },
  {
   "cell_type": "code",
   "execution_count": 14,
   "metadata": {},
   "outputs": [],
   "source": [
    "# --- Code Goes Here --- #"
   ]
  },
  {
   "cell_type": "markdown",
   "metadata": {},
   "source": [
    "# Like The Food, Hate The Bill\n",
    "Does the type of cuisine being ordered affects the price of the food? If you can answer this question our discounts team will be able to come up with the right strategy to attract customers. "
   ]
  },
  {
   "cell_type": "code",
   "execution_count": 15,
   "metadata": {},
   "outputs": [],
   "source": [
    "# --- Code Goes Here --- #"
   ]
  },
  {
   "cell_type": "markdown",
   "metadata": {},
   "source": [
    "# 5 Star Rating Equals 5 Start Price\n",
    "Does the rating of a restaurant affect the price of the food at the restaurant?"
   ]
  },
  {
   "cell_type": "code",
   "execution_count": 16,
   "metadata": {},
   "outputs": [],
   "source": [
    "# --- Code Goes Here --- #"
   ]
  },
  {
   "cell_type": "markdown",
   "metadata": {},
   "source": [
    "# Joh Dikhta Hain, Woh Bikta Hain\n",
    "Does the rating of a restaurant affect the page number it will be displayed on? In order to explain peformance to our restaurant partners it would be important to look at this analysis."
   ]
  },
  {
   "cell_type": "code",
   "execution_count": 17,
   "metadata": {},
   "outputs": [],
   "source": [
    "# --- Code Goes Here --- #"
   ]
  },
  {
   "cell_type": "markdown",
   "metadata": {},
   "source": [
    "# The World Is Your Oyster Now\n",
    "Once you are done with the insights we've asked for, if you have any additional insights that you can derive from the data it would be really appreciated. If not no worries, sit back, relax and order from Zomato ;)."
   ]
  },
  {
   "cell_type": "code",
   "execution_count": 18,
   "metadata": {},
   "outputs": [],
   "source": [
    "# --- Code Goes Here --- #"
   ]
  },
  {
   "cell_type": "code",
   "execution_count": null,
   "metadata": {},
   "outputs": [],
   "source": []
  }
 ],
 "metadata": {
  "kernelspec": {
   "display_name": "Python 3",
   "language": "python",
   "name": "python3"
  },
  "language_info": {
   "codemirror_mode": {
    "name": "ipython",
    "version": 3
   },
   "file_extension": ".py",
   "mimetype": "text/x-python",
   "name": "python",
   "nbconvert_exporter": "python",
   "pygments_lexer": "ipython3",
   "version": "3.8.5"
  }
 },
 "nbformat": 4,
 "nbformat_minor": 4
}
