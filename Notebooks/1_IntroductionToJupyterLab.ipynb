{
 "cells": [
  {
   "cell_type": "markdown",
   "metadata": {},
   "source": [
    "# Introduction to Jupyter Notebook Environment\n",
    "A jupyter notebook environment gives us a platform to interactively execute and debug python code."
   ]
  },
  {
   "cell_type": "markdown",
   "metadata": {},
   "source": [
    "# Understanding Cells\n",
    "A cell in a jupyter notebook is an executable block of python code which can be executed independently from other cells. This cell can however reference code in the other cells. A cell in a jupyter notebook can contain three basic types of content,\n",
    "* Python Code.\n",
    "* Markdown Code.\n",
    "* Raw Text.\n",
    "\n",
    "Click on the plus button on the editor window to create new cell or use the shortcut Ctrl + Shift + '-'. To execute a cell press Ctrl + Enter.\n",
    "\n",
    "To select a cell you can hover your mouse over it and click on that cell to enter edit mode on that particular cell."
   ]
  },
  {
   "cell_type": "code",
   "execution_count": 1,
   "metadata": {},
   "outputs": [],
   "source": [
    "# This is a python code cell"
   ]
  },
  {
   "cell_type": "markdown",
   "metadata": {},
   "source": [
    "This is a markdown cell"
   ]
  },
  {
   "cell_type": "raw",
   "metadata": {},
   "source": [
    "This is a raw text cell"
   ]
  },
  {
   "cell_type": "markdown",
   "metadata": {},
   "source": [
    "# Running Basic Python Code\n",
    "Each cell which is designated as code will be executed considering that it is valid Python code. The cells below show some example of it."
   ]
  },
  {
   "cell_type": "code",
   "execution_count": 2,
   "metadata": {},
   "outputs": [
    {
     "data": {
      "text/plain": [
       "5"
      ]
     },
     "execution_count": 2,
     "metadata": {},
     "output_type": "execute_result"
    }
   ],
   "source": [
    "# Evaluating Basic Expressions\n",
    "# Press Ctrl + Enter to run the cell.\n",
    "2 + 3"
   ]
  },
  {
   "cell_type": "code",
   "execution_count": 3,
   "metadata": {},
   "outputs": [
    {
     "data": {
      "text/plain": [
       "False"
      ]
     },
     "execution_count": 3,
     "metadata": {},
     "output_type": "execute_result"
    }
   ],
   "source": [
    "# Evaluating More Basic Expressions\n",
    "# Press Ctrl + Enter to run the cell.\n",
    "(2 + 3) > 5"
   ]
  },
  {
   "cell_type": "code",
   "execution_count": 4,
   "metadata": {},
   "outputs": [
    {
     "name": "stdout",
     "output_type": "stream",
     "text": [
      "5\n"
     ]
    }
   ],
   "source": [
    "# Running basic Python code.\n",
    "# Press Ctrl + Enter to run the cell.\n",
    "a = 2\n",
    "b = 3\n",
    "print(a + b)"
   ]
  },
  {
   "cell_type": "code",
   "execution_count": 5,
   "metadata": {},
   "outputs": [
    {
     "data": {
      "text/plain": [
       "5"
      ]
     },
     "execution_count": 5,
     "metadata": {},
     "output_type": "execute_result"
    }
   ],
   "source": [
    "# One other way to do this\n",
    "# Press Ctrl + Enter to run the cell.\n",
    "a = 2\n",
    "b = 3\n",
    "a + b"
   ]
  },
  {
   "cell_type": "markdown",
   "metadata": {},
   "source": [
    "If the last line of a cell is an expression that evaluates to a result then you don't need to explicitly call `print()` to print the output to STDOUT. As demonstrated in the cell above."
   ]
  },
  {
   "cell_type": "markdown",
   "metadata": {},
   "source": [
    "# Demonstration Program 1 - Password Checker\n",
    "Run the cell below to trigger a basic program demonstrating conditional statements."
   ]
  },
  {
   "cell_type": "code",
   "execution_count": 7,
   "metadata": {},
   "outputs": [
    {
     "name": "stdin",
     "output_type": "stream",
     "text": [
      "Please enter the password:  password\n"
     ]
    },
    {
     "name": "stdout",
     "output_type": "stream",
     "text": [
      "Access Granted!\n"
     ]
    }
   ],
   "source": [
    "PASSWORD = 'password'\n",
    "user_pass = input(\"Please enter the password: \")\n",
    "if user_pass == PASSWORD:\n",
    "    print('Access Granted!')\n",
    "else:\n",
    "    print(\"Access Denied!\")"
   ]
  },
  {
   "cell_type": "markdown",
   "metadata": {},
   "source": [
    "# Demonstration Program 2 - Arithmetic Progression Calculator\n",
    "Run the cell below to trigger a basic program demonstrating use of datastructures and for loops."
   ]
  },
  {
   "cell_type": "code",
   "execution_count": 9,
   "metadata": {},
   "outputs": [
    {
     "name": "stdin",
     "output_type": "stream",
     "text": [
      "Enter the starting value of AP (e.g 0):  1\n",
      "Enter the difference between each value:  1\n",
      "Enter the number of elements in the AP (e.g 100):  10\n"
     ]
    },
    {
     "name": "stdout",
     "output_type": "stream",
     "text": [
      "Sum of the AP:  55\n"
     ]
    }
   ],
   "source": [
    "AP_START = int(input(\"Enter the starting value of AP (e.g 0): \"))\n",
    "AP_DIFF = int(input(\"Enter the difference between each value: \"))\n",
    "AP_NUM_ELEMENTS = int(input(\"Enter the number of elements in the AP (e.g 100): \"))\n",
    "\n",
    "AP_END = AP_START + ((AP_NUM_ELEMENTS - 1)*AP_DIFF)\n",
    "AP = range(AP_START, AP_END+AP_DIFF, AP_DIFF)\n",
    "ap_sum = 0\n",
    "for e in AP:\n",
    "    ap_sum += e\n",
    "print(\"Sum of the AP: \", ap_sum)"
   ]
  },
  {
   "cell_type": "markdown",
   "metadata": {},
   "source": [
    "# Referencing Variables From Different Cells"
   ]
  },
  {
   "cell_type": "code",
   "execution_count": 10,
   "metadata": {},
   "outputs": [],
   "source": [
    "# Consider the variables in this cell\n",
    "increment_percentage = 10\n",
    "base_salary = 30000"
   ]
  },
  {
   "cell_type": "code",
   "execution_count": 11,
   "metadata": {},
   "outputs": [
    {
     "data": {
      "text/plain": [
       "33000.0"
      ]
     },
     "execution_count": 11,
     "metadata": {},
     "output_type": "execute_result"
    }
   ],
   "source": [
    "# Referencing Variable in this cell\n",
    "# In order to use the variable from a different cell, that cell has to be executed before the current cell.\n",
    "increased_salary = base_salary + (increment_percentage/100)*base_salary\n",
    "increased_salary"
   ]
  },
  {
   "cell_type": "markdown",
   "metadata": {},
   "source": [
    "The ability to reference variables from one cell to another makes Jupyter Notebooks a powerful tool for rapid prototyping and interactive development."
   ]
  },
  {
   "cell_type": "markdown",
   "metadata": {},
   "source": [
    "# Organizing Code Using Functions\n",
    "We can organize reusable code in the notebook using functions like we do in regular python files. This is demonstrated below."
   ]
  },
  {
   "cell_type": "code",
   "execution_count": 15,
   "metadata": {},
   "outputs": [],
   "source": [
    "def reverse_string(s):\n",
    "    return s[::-1]"
   ]
  },
  {
   "cell_type": "code",
   "execution_count": 16,
   "metadata": {},
   "outputs": [
    {
     "name": "stdin",
     "output_type": "stream",
     "text": [
      "Enter your name:  Jainil\n"
     ]
    },
    {
     "name": "stdout",
     "output_type": "stream",
     "text": [
      "Reversed name:  liniaJ\n"
     ]
    }
   ],
   "source": [
    "name = input(\"Enter your name: \")\n",
    "print(\"Reversed name: \", reverse_string(name))"
   ]
  },
  {
   "cell_type": "code",
   "execution_count": 17,
   "metadata": {},
   "outputs": [
    {
     "name": "stdin",
     "output_type": "stream",
     "text": [
      "Enter another name:  Vimal\n"
     ]
    },
    {
     "name": "stdout",
     "output_type": "stream",
     "text": [
      "Reversed name:  lamiV\n"
     ]
    }
   ],
   "source": [
    "name = input(\"Enter another name: \")\n",
    "print(\"Reversed name: \", reverse_string(name))"
   ]
  },
  {
   "cell_type": "markdown",
   "metadata": {},
   "source": [
    "# Demonstration Program - Arithmetic Calculator"
   ]
  },
  {
   "cell_type": "code",
   "execution_count": 24,
   "metadata": {},
   "outputs": [],
   "source": [
    "# Calculator Functions\n",
    "def add(a, b):\n",
    "    return a+b\n",
    "\n",
    "def subtract(a, b):\n",
    "    return a - b\n",
    "\n",
    "def multiply(a, b):\n",
    "    return a*b\n",
    "\n",
    "def divide(a, b):\n",
    "    return a/b\n",
    "\n",
    "# Expression Evalution\n",
    "def evaluate_expression(exp):\n",
    "    a, operator, b = exp.split(' ')\n",
    "    a = float(a)\n",
    "    b = float(b)\n",
    "    if operator == '+':\n",
    "        return add(a, b)\n",
    "    elif operator == '-':\n",
    "        return subtract(a, b)\n",
    "    elif operator == '*':\n",
    "        return multiply(a, b)\n",
    "    elif operator == '/':\n",
    "        return divide(a, b)\n",
    "    else:\n",
    "        print(\"Invalid Expression.\")\n",
    "        print(\"Expression should be of the form '2 + 3', spaces included.\")\n",
    "\n",
    "# Execute Calculator\n",
    "def run_calculator():\n",
    "    exp = input(\"Enter expression: \")\n",
    "    calc_result = evaluate_expression(exp)\n",
    "    print(calc_result)"
   ]
  },
  {
   "cell_type": "code",
   "execution_count": 25,
   "metadata": {},
   "outputs": [
    {
     "name": "stdin",
     "output_type": "stream",
     "text": [
      "Enter expression:  2 + 3\n"
     ]
    },
    {
     "name": "stdout",
     "output_type": "stream",
     "text": [
      "5.0\n"
     ]
    }
   ],
   "source": [
    "# Run this cell to execute the calculator\n",
    "run_calculator()"
   ]
  },
  {
   "cell_type": "code",
   "execution_count": null,
   "metadata": {},
   "outputs": [],
   "source": []
  }
 ],
 "metadata": {
  "kernelspec": {
   "display_name": "Python 3",
   "language": "python",
   "name": "python3"
  },
  "language_info": {
   "codemirror_mode": {
    "name": "ipython",
    "version": 3
   },
   "file_extension": ".py",
   "mimetype": "text/x-python",
   "name": "python",
   "nbconvert_exporter": "python",
   "pygments_lexer": "ipython3",
   "version": "3.8.5"
  }
 },
 "nbformat": 4,
 "nbformat_minor": 4
}
